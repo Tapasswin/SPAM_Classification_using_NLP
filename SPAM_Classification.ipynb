{
  "nbformat": 4,
  "nbformat_minor": 0,
  "metadata": {
    "colab": {
      "provenance": [],
      "gpuType": "T4"
    },
    "kernelspec": {
      "name": "python3",
      "display_name": "Python 3"
    },
    "language_info": {
      "name": "python"
    },
    "accelerator": "GPU"
  },
  "cells": [
    {
      "cell_type": "code",
      "execution_count": 24,
      "metadata": {
        "colab": {
          "base_uri": "https://localhost:8080/"
        },
        "id": "EKkXP2Uo_ZZm",
        "outputId": "bf0ee74a-9234-4730-c385-23dbffab593f"
      },
      "outputs": [
        {
          "output_type": "stream",
          "name": "stderr",
          "text": [
            "[nltk_data] Downloading package punkt to /root/nltk_data...\n",
            "[nltk_data]   Package punkt is already up-to-date!\n",
            "[nltk_data] Downloading package stopwords to /root/nltk_data...\n",
            "[nltk_data]   Package stopwords is already up-to-date!\n",
            "[nltk_data] Downloading package wordnet to /root/nltk_data...\n"
          ]
        }
      ],
      "source": [
        "import pandas as pd\n",
        "import nltk\n",
        "from nltk.corpus import stopwords\n",
        "from nltk.stem.porter import PorterStemmer\n",
        "import re\n",
        "nltk.download('punkt')\n",
        "nltk.download('stopwords')\n",
        "nltk.download('wordnet')\n",
        "from nltk import WordNetLemmatizer\n"
      ]
    },
    {
      "cell_type": "code",
      "source": [
        "message = pd.read_csv('/content/SMSSpamCollection',sep='\\t',names=['labels','messages'])"
      ],
      "metadata": {
        "id": "s_7MYywRA35c"
      },
      "execution_count": 9,
      "outputs": []
    },
    {
      "cell_type": "code",
      "source": [
        "message"
      ],
      "metadata": {
        "colab": {
          "base_uri": "https://localhost:8080/",
          "height": 619
        },
        "id": "3i4y5FkYBT71",
        "outputId": "57c5ab47-f352-4259-e1a4-c842f30e3ee3"
      },
      "execution_count": 10,
      "outputs": [
        {
          "output_type": "execute_result",
          "data": {
            "text/plain": [
              "     labels                                           messages\n",
              "0       ham  Go until jurong point, crazy.. Available only ...\n",
              "1       ham                      Ok lar... Joking wif u oni...\n",
              "2      spam  Free entry in 2 a wkly comp to win FA Cup fina...\n",
              "3       ham  U dun say so early hor... U c already then say...\n",
              "4       ham  Nah I don't think he goes to usf, he lives aro...\n",
              "...     ...                                                ...\n",
              "5567   spam  This is the 2nd time we have tried 2 contact u...\n",
              "5568    ham               Will ü b going to esplanade fr home?\n",
              "5569    ham  Pity, * was in mood for that. So...any other s...\n",
              "5570    ham  The guy did some bitching but I acted like i'd...\n",
              "5571    ham                         Rofl. Its true to its name\n",
              "\n",
              "[5572 rows x 2 columns]"
            ],
            "text/html": [
              "\n",
              "\n",
              "  <div id=\"df-c89cdf57-eb0e-454f-8f40-e48e427d5c17\">\n",
              "    <div class=\"colab-df-container\">\n",
              "      <div>\n",
              "<style scoped>\n",
              "    .dataframe tbody tr th:only-of-type {\n",
              "        vertical-align: middle;\n",
              "    }\n",
              "\n",
              "    .dataframe tbody tr th {\n",
              "        vertical-align: top;\n",
              "    }\n",
              "\n",
              "    .dataframe thead th {\n",
              "        text-align: right;\n",
              "    }\n",
              "</style>\n",
              "<table border=\"1\" class=\"dataframe\">\n",
              "  <thead>\n",
              "    <tr style=\"text-align: right;\">\n",
              "      <th></th>\n",
              "      <th>labels</th>\n",
              "      <th>messages</th>\n",
              "    </tr>\n",
              "  </thead>\n",
              "  <tbody>\n",
              "    <tr>\n",
              "      <th>0</th>\n",
              "      <td>ham</td>\n",
              "      <td>Go until jurong point, crazy.. Available only ...</td>\n",
              "    </tr>\n",
              "    <tr>\n",
              "      <th>1</th>\n",
              "      <td>ham</td>\n",
              "      <td>Ok lar... Joking wif u oni...</td>\n",
              "    </tr>\n",
              "    <tr>\n",
              "      <th>2</th>\n",
              "      <td>spam</td>\n",
              "      <td>Free entry in 2 a wkly comp to win FA Cup fina...</td>\n",
              "    </tr>\n",
              "    <tr>\n",
              "      <th>3</th>\n",
              "      <td>ham</td>\n",
              "      <td>U dun say so early hor... U c already then say...</td>\n",
              "    </tr>\n",
              "    <tr>\n",
              "      <th>4</th>\n",
              "      <td>ham</td>\n",
              "      <td>Nah I don't think he goes to usf, he lives aro...</td>\n",
              "    </tr>\n",
              "    <tr>\n",
              "      <th>...</th>\n",
              "      <td>...</td>\n",
              "      <td>...</td>\n",
              "    </tr>\n",
              "    <tr>\n",
              "      <th>5567</th>\n",
              "      <td>spam</td>\n",
              "      <td>This is the 2nd time we have tried 2 contact u...</td>\n",
              "    </tr>\n",
              "    <tr>\n",
              "      <th>5568</th>\n",
              "      <td>ham</td>\n",
              "      <td>Will ü b going to esplanade fr home?</td>\n",
              "    </tr>\n",
              "    <tr>\n",
              "      <th>5569</th>\n",
              "      <td>ham</td>\n",
              "      <td>Pity, * was in mood for that. So...any other s...</td>\n",
              "    </tr>\n",
              "    <tr>\n",
              "      <th>5570</th>\n",
              "      <td>ham</td>\n",
              "      <td>The guy did some bitching but I acted like i'd...</td>\n",
              "    </tr>\n",
              "    <tr>\n",
              "      <th>5571</th>\n",
              "      <td>ham</td>\n",
              "      <td>Rofl. Its true to its name</td>\n",
              "    </tr>\n",
              "  </tbody>\n",
              "</table>\n",
              "<p>5572 rows × 2 columns</p>\n",
              "</div>\n",
              "      <button class=\"colab-df-convert\" onclick=\"convertToInteractive('df-c89cdf57-eb0e-454f-8f40-e48e427d5c17')\"\n",
              "              title=\"Convert this dataframe to an interactive table.\"\n",
              "              style=\"display:none;\">\n",
              "\n",
              "  <svg xmlns=\"http://www.w3.org/2000/svg\" height=\"24px\"viewBox=\"0 0 24 24\"\n",
              "       width=\"24px\">\n",
              "    <path d=\"M0 0h24v24H0V0z\" fill=\"none\"/>\n",
              "    <path d=\"M18.56 5.44l.94 2.06.94-2.06 2.06-.94-2.06-.94-.94-2.06-.94 2.06-2.06.94zm-11 1L8.5 8.5l.94-2.06 2.06-.94-2.06-.94L8.5 2.5l-.94 2.06-2.06.94zm10 10l.94 2.06.94-2.06 2.06-.94-2.06-.94-.94-2.06-.94 2.06-2.06.94z\"/><path d=\"M17.41 7.96l-1.37-1.37c-.4-.4-.92-.59-1.43-.59-.52 0-1.04.2-1.43.59L10.3 9.45l-7.72 7.72c-.78.78-.78 2.05 0 2.83L4 21.41c.39.39.9.59 1.41.59.51 0 1.02-.2 1.41-.59l7.78-7.78 2.81-2.81c.8-.78.8-2.07 0-2.86zM5.41 20L4 18.59l7.72-7.72 1.47 1.35L5.41 20z\"/>\n",
              "  </svg>\n",
              "      </button>\n",
              "\n",
              "\n",
              "\n",
              "    <div id=\"df-48510f6e-f62f-4df3-a47a-14d1faa8a420\">\n",
              "      <button class=\"colab-df-quickchart\" onclick=\"quickchart('df-48510f6e-f62f-4df3-a47a-14d1faa8a420')\"\n",
              "              title=\"Suggest charts.\"\n",
              "              style=\"display:none;\">\n",
              "\n",
              "<svg xmlns=\"http://www.w3.org/2000/svg\" height=\"24px\"viewBox=\"0 0 24 24\"\n",
              "     width=\"24px\">\n",
              "    <g>\n",
              "        <path d=\"M19 3H5c-1.1 0-2 .9-2 2v14c0 1.1.9 2 2 2h14c1.1 0 2-.9 2-2V5c0-1.1-.9-2-2-2zM9 17H7v-7h2v7zm4 0h-2V7h2v10zm4 0h-2v-4h2v4z\"/>\n",
              "    </g>\n",
              "</svg>\n",
              "      </button>\n",
              "    </div>\n",
              "\n",
              "<style>\n",
              "  .colab-df-quickchart {\n",
              "    background-color: #E8F0FE;\n",
              "    border: none;\n",
              "    border-radius: 50%;\n",
              "    cursor: pointer;\n",
              "    display: none;\n",
              "    fill: #1967D2;\n",
              "    height: 32px;\n",
              "    padding: 0 0 0 0;\n",
              "    width: 32px;\n",
              "  }\n",
              "\n",
              "  .colab-df-quickchart:hover {\n",
              "    background-color: #E2EBFA;\n",
              "    box-shadow: 0px 1px 2px rgba(60, 64, 67, 0.3), 0px 1px 3px 1px rgba(60, 64, 67, 0.15);\n",
              "    fill: #174EA6;\n",
              "  }\n",
              "\n",
              "  [theme=dark] .colab-df-quickchart {\n",
              "    background-color: #3B4455;\n",
              "    fill: #D2E3FC;\n",
              "  }\n",
              "\n",
              "  [theme=dark] .colab-df-quickchart:hover {\n",
              "    background-color: #434B5C;\n",
              "    box-shadow: 0px 1px 3px 1px rgba(0, 0, 0, 0.15);\n",
              "    filter: drop-shadow(0px 1px 2px rgba(0, 0, 0, 0.3));\n",
              "    fill: #FFFFFF;\n",
              "  }\n",
              "</style>\n",
              "\n",
              "    <script>\n",
              "      async function quickchart(key) {\n",
              "        const containerElement = document.querySelector('#' + key);\n",
              "        const charts = await google.colab.kernel.invokeFunction(\n",
              "            'suggestCharts', [key], {});\n",
              "      }\n",
              "    </script>\n",
              "\n",
              "      <script>\n",
              "\n",
              "function displayQuickchartButton(domScope) {\n",
              "  let quickchartButtonEl =\n",
              "    domScope.querySelector('#df-48510f6e-f62f-4df3-a47a-14d1faa8a420 button.colab-df-quickchart');\n",
              "  quickchartButtonEl.style.display =\n",
              "    google.colab.kernel.accessAllowed ? 'block' : 'none';\n",
              "}\n",
              "\n",
              "        displayQuickchartButton(document);\n",
              "      </script>\n",
              "      <style>\n",
              "    .colab-df-container {\n",
              "      display:flex;\n",
              "      flex-wrap:wrap;\n",
              "      gap: 12px;\n",
              "    }\n",
              "\n",
              "    .colab-df-convert {\n",
              "      background-color: #E8F0FE;\n",
              "      border: none;\n",
              "      border-radius: 50%;\n",
              "      cursor: pointer;\n",
              "      display: none;\n",
              "      fill: #1967D2;\n",
              "      height: 32px;\n",
              "      padding: 0 0 0 0;\n",
              "      width: 32px;\n",
              "    }\n",
              "\n",
              "    .colab-df-convert:hover {\n",
              "      background-color: #E2EBFA;\n",
              "      box-shadow: 0px 1px 2px rgba(60, 64, 67, 0.3), 0px 1px 3px 1px rgba(60, 64, 67, 0.15);\n",
              "      fill: #174EA6;\n",
              "    }\n",
              "\n",
              "    [theme=dark] .colab-df-convert {\n",
              "      background-color: #3B4455;\n",
              "      fill: #D2E3FC;\n",
              "    }\n",
              "\n",
              "    [theme=dark] .colab-df-convert:hover {\n",
              "      background-color: #434B5C;\n",
              "      box-shadow: 0px 1px 3px 1px rgba(0, 0, 0, 0.15);\n",
              "      filter: drop-shadow(0px 1px 2px rgba(0, 0, 0, 0.3));\n",
              "      fill: #FFFFFF;\n",
              "    }\n",
              "  </style>\n",
              "\n",
              "      <script>\n",
              "        const buttonEl =\n",
              "          document.querySelector('#df-c89cdf57-eb0e-454f-8f40-e48e427d5c17 button.colab-df-convert');\n",
              "        buttonEl.style.display =\n",
              "          google.colab.kernel.accessAllowed ? 'block' : 'none';\n",
              "\n",
              "        async function convertToInteractive(key) {\n",
              "          const element = document.querySelector('#df-c89cdf57-eb0e-454f-8f40-e48e427d5c17');\n",
              "          const dataTable =\n",
              "            await google.colab.kernel.invokeFunction('convertToInteractive',\n",
              "                                                     [key], {});\n",
              "          if (!dataTable) return;\n",
              "\n",
              "          const docLinkHtml = 'Like what you see? Visit the ' +\n",
              "            '<a target=\"_blank\" href=https://colab.research.google.com/notebooks/data_table.ipynb>data table notebook</a>'\n",
              "            + ' to learn more about interactive tables.';\n",
              "          element.innerHTML = '';\n",
              "          dataTable['output_type'] = 'display_data';\n",
              "          await google.colab.output.renderOutput(dataTable, element);\n",
              "          const docLink = document.createElement('div');\n",
              "          docLink.innerHTML = docLinkHtml;\n",
              "          element.appendChild(docLink);\n",
              "        }\n",
              "      </script>\n",
              "    </div>\n",
              "  </div>\n"
            ]
          },
          "metadata": {},
          "execution_count": 10
        },
        {
          "output_type": "display_data",
          "data": {
            "text/plain": [
              "<google.colab._quickchart_helpers.SectionTitle at 0x7c8d311b31f0>"
            ],
            "text/html": [
              "<h4 class=\"colab-quickchart-section-title\">Categorical distributions</h4>\n",
              "<style>\n",
              "  .colab-quickchart-section-title {\n",
              "      clear: both;\n",
              "  }\n",
              "</style>"
            ]
          },
          "metadata": {}
        },
        {
          "output_type": "display_data",
          "data": {
            "text/plain": [
              "import numpy as np\n",
              "from google.colab import autoviz\n",
              "df_3659860408095419855 = autoviz.get_registered_df('df_3659860408095419855')\n",
              "\n",
              "def categorical_histogram(df, colname, figsize=(2, 1.2), mpl_palette_name='Dark2'):\n",
              "  from matplotlib import pyplot as plt\n",
              "  import seaborn as sns\n",
              "  _, ax = plt.subplots(figsize=figsize)\n",
              "  bars = df[colname].value_counts()\n",
              "  plt.barh(bars.index, bars.values, color=sns.palettes.mpl_palette(mpl_palette_name))\n",
              "  plt.title(colname)\n",
              "  ax.spines[['top', 'right',]].set_visible(False)\n",
              "  return autoviz.MplChart.from_current_mpl_state()\n",
              "\n",
              "chart = categorical_histogram(df_3659860408095419855, *['labels'], **{})\n",
              "chart"
            ],
            "text/html": [
              "      <div class=\"colab-quickchart-chart-with-code\" id=\"chart-618e6986-f3ce-48d0-b69a-fe4a114088c6\">\n",
              "        <img src=\"data:image/png;base64,iVBORw0KGgoAAAANSUhEUgAAANcAAACWCAYAAABNeR18AAAAOXRFWHRTb2Z0d2FyZQBNYXRwbG90\n",
              "bGliIHZlcnNpb24zLjcuMSwgaHR0cHM6Ly9tYXRwbG90bGliLm9yZy/bCgiHAAAACXBIWXMAAA9h\n",
              "AAAPYQGoP6dpAAALs0lEQVR4nO3df0xV9R/H8df5cuWyErmGCxCCi/xoca/eCi6hTcFQc2xUOlfk\n",
              "lzKasyKnfVvF2Gr8pXzdiDKt0RxhriWJhqsZLCuZzi1+tBQVY+C83uviwkx+2IYo936+f7TuunH7\n",
              "A7jv7/3h67GdDe45957PZ/PpuYfde46mlFIgIr/7V6AHQBSuGBeREMZFJIRxEQlhXERCGBeREMZF\n",
              "JIRxEQlhXERCGFcIKigowNtvv+33bf+Jpmn47rvvZvUadyLGRSSEcREJYVwhbsuWLTAajZg7dy5S\n",
              "U1NRVVUFt9vttc3IyAjWr1+P6OhopKen48CBA17r29vbUVBQgNjYWKSkpOCdd97B5OSkz/3Z7XYU\n",
              "FRXhnnvuQUxMDMxmM06dOiU2v1DGuEJcbm4u2tvbcePGDRw8eBB79+7Fvn37vLapr69HWVkZhoeH\n",
              "8cEHH2Dz5s04ffo0AKC3txeFhYV4+eWXMTg4iJMnT+Krr77Crl27fO6vsrISiYmJ+PXXXzE8PIwj\n",
              "R44gKSlJfJ6hiHGFuM2bNyMuLg6apiEvLw+lpaX49ttvvbYpKipCcXExdDodioqKsG7dOnzyyScA\n",
              "gA8//BDFxcUoKSmBTqdDSkoK3nrrLTQ0NPjcX2RkJJxOJy5dugRN03D//fcjNTVVfJ6hiHGFMKUU\n",
              "duzYAZPJhPnz58NgMODjjz/G0NCQ13Z//8efmpoKh8MBAOjr60NzczMMBoNneeWVV+B0On3us6am\n",
              "Bunp6Vi/fj3i4uJQVlaGwcFBmQmGOMYVwhobG/H+++/jwIEDuHbtGkZGRvDSSy/h799/tdlsU37/\n",
              "861cfHw8Nm7ciJGREc8yNjaG33//3ec+Y2Nj8d5776G3txc///wzbDYbXn/9dZH5hTrGFcJGR0eh\n",
              "0+lw7733QtM0nDhxAp999tmU7b755hscO3YMLpcLra2taG5uRllZGQCgvLwchw8fRlNTE27dugWX\n",
              "y4X+/n60trb63GdjYyMuXboEt9uN6Oho6PV66HQ60XmGKsYVwl544QUUFhZi8eLFWLBgAerq6lBa\n",
              "WjpluxdffBH19fUwGAx49dVXUVdXh+XLlwMArFYrjh8/jn379iExMRGxsbHYsGEDrly54nOfZ8+e\n",
              "xWOPPYbo6GikpaXBYDCgpqZGdJ6hSuM1NIhk8MhFJIRxEQlhXERCGBeREMZFJIRxEQlhXERCwiau\n",
              "3bt3B3oIRF7CJq5/+kQBUaCETVxEwYZxEQkJm88Wlpk0VFpl/q/I3O8SeV0KbzxyEQlhXERCGBeR\n",
              "EMZFJIRxEQlhXERCGBeREMZFJIRxEQlhXERCGBeREMZFJIRxEQlhXERCGBeREMZFJGRacY2Pj+OZ\n",
              "Z55BVlYWLBYL1qxZg7a2NpjNZjz//PMwm83Izs7GmTNnAABOpxMrV65EdnY2TCYTtm7d6rlf7/79\n",
              "+7Fq1So8++yzyMrKwrJly9DT04N169bhgQcewJo1a/7xHlFEoWBacbW2tmJkZAQ9PT04e/YsGhsb\n",
              "AQAXLlzApk2bcP78eVRUVKCkpARKKRgMBnz99df46aef0N3dDZvNhkOHDnler7OzE7t27UJPTw/S\n",
              "0tJQXFyMuro6XLx4EZGRkfj00099jmNiYgJjY2Nei8vtc1OigJlWXBaLBRcvXkR5eTm++OILzJkz\n",
              "BwBgNBpRWFgIAHj66afhdDrhcDjgdrtRUVEBi8WChx56CF1dXZ6jGgAsXboUycnJAICcnBxYrVbE\n",
              "xcUB+OO+UX19fT7HUV1djZiYGK+l+9q0504kalpxLVq0CD09PVi7di1Onz4Ns9mM4eHhKdtpmgZN\n",
              "01BbW4uhoSG0t7eju7sbGzduxM2bNz3bRUVFeX6OiIiY8vvk5KTPcVRWVmJ0dNRrWbJgOjMhkjet\n",
              "uK5evQpN0/DEE0+gpqYGSik4HA7YbDacOHECAHD48GHExcUhKSkJw8PDiI+PR1RUFJxOJ5qamvwy\n",
              "aL1ej3nz5nktEfzTDAWZad3M9ty5c6isrIRSCpOTk3juueewZMkSmEwm7N+/H9u2bUNkZCQOHjwI\n",
              "TdOwfft2bNiwASaTCQsXLsSqVauk5kEUdGZ9abW2tja89tprXudSgcBLq1Gw4ZspIiGzjqugoCDg\n",
              "Ry2iYMQjF5EQxkUkhHERCWFcREIYF5EQxkUkhHERCWFcREIYF5EQxkUkhHERCZnWV06C2fzH/4PM\n",
              "2tpAD4PIg0cuIiGMi0gI4yISwriIhDAuIiGMi0gI4yISwriIhDAuIiGzvm5hsJj7uBWGksJAD4PC\n",
              "xNWy/876NXjkIhLCuIiEMC4iIYyLSAjjIhLCuIiEMC4iIYyLSAjjIhLCuIiEMC4iIYyLSAjjIhLC\n",
              "uIiE+CUuTdMwMjLij5ciChs8chEJ8VtcH330EXJzc5GamoqGhgbP42+88QasVisefPBBrFixAr29\n",
              "vZ51mqZhx44deOSRR2A0GnH06FFUV1cjJycHGRkZaGtr87mviYkJjI2NeS1whcV3PimM+C0uvV6P\n",
              "jo4OtLS0YNu2bZicnAQAVFRUoLOzE2fOnEF5eTm2b9/u9by5c+eivb0d9fX1KC0tRUJCArq6urBz\n",
              "5068+eabPvdVXV2NmJgYr+XW5QF/TYXIL/zyNX9N0zAwMID4+HgAwPz583Hu3DkkJSXh888/x549\n",
              "e3Djxg243W5cv34dTqdzyvNGR0dhMBgwPj6OqKgoXLlyBRaLxee53MTEBCYmJrweW7j+MRj+vWq2\n",
              "UyEC4J+v+fvtLidRUVGenyMiIjA5OQm73Y6tW7eis7MTaWlp6O7uxooVK3w+LyIiYsrvfx79/k6v\n",
              "10Ov13s/GKH5aypEfiH6B43R0VHMmTMHCQkJUEph7969krsjCiqicS1evBglJSUwmUywWq1ITk6W\n",
              "3B1RUOGl1Yh84KXViIIY4yISwriIhDAuIiGMi0gI4yISwriIhDAuIiGMi0gI4yISwriIhDAuIiGM\n",
              "i0iI374sGWhbTMtR64dPMhP5C49cREIYF5EQxkUkJCzOuSYmJtDS0gKXy+W50E24c7lc6OjoQG5u\n",
              "7h0zZyA45p2SkjLlEoG+hMXX/MfGxhATE4PR0VHMmzcv0MP5v7gT5wyE1rz5tpBICOMiEsK4iISE\n",
              "RVx6vR5VVVVTr8Ibxu7EOQOhNe+w+IMGUTAKiyMXUTBiXERCGBeRkJCPq6+vD8uWLUNmZiasVisu\n",
              "XLgQ6CHNyM2bN/HUU08hMzMTFosFq1evRn9/PwBgaGgIa9euRUZGBsxmM06ePOl53kzXBZuGhgZo\n",
              "moajR48CCJM5qxC3cuVK1dDQoJRSqqmpSeXk5AR2QDM0Pj6ujh07ptxut1JKqT179qj8/HyllFJl\n",
              "ZWWqqqpKKaVUR0eHSkxMVLdu3ZrVumBy+fJltXTpUpWXl6eam5uVUuEx55COa3BwUEVHR6vbt28r\n",
              "pZRyu90qLi5O9fX1BXhks9fZ2alSUlKUUkrdfffdamBgwLPOarWq48ePz2pdsHC5XKqwsFB1dXWp\n",
              "/Px8T1zhMOeQflvocDiQkJAAne6Pzx9rmobk5GTY7fYAj2z2du/ejSeffBK//fYbbt++7bklLgAY\n",
              "jUbY7fYZrwsmtbW1ePTRR5Gdne15LFzmHBafig83O3fuRH9/P77//nuMj48Hejhizp8/jyNHjgT1\n",
              "ueBshPSR67777sPAwIDn3slKKdjt9pC+g2VNTQ2+/PJLtLS04K677kJsbCx0Op3nJu0AYLPZkJyc\n",
              "PON1weLUqVOw2WzIyMiA0WjEjz/+iC1btuDQoUPhMeeAvBn1o/z8fK8/aGRnZwd2QLPw7rvvqocf\n",
              "flhdv37d6/FNmzZ5naQvXLjQc5I+03XB6K/nXOEw55CP65dfflF5eXkqIyNDZWdnq+7u7kAPaUYc\n",
              "DocCoBYtWqQsFouyWCwqNzdXKaWU0+lUq1evVunp6SorK0v98MMPnufNdF0w+mtc4TBnfraQSEhI\n",
              "n3MRBTPGRSSEcREJYVxEQhgXkRDGRSSEcREJYVxEQhgXkRDGRSSEcREJ+R/MJx8EpbXdBwAAAABJ\n",
              "RU5ErkJggg==\n",
              "\">\n",
              "        \n",
              "      </div>\n",
              "      <script></script>\n",
              "      <script type=\"text/javascript\">\n",
              "        (() => {\n",
              "          const chartElement = document.getElementById(\"chart-618e6986-f3ce-48d0-b69a-fe4a114088c6\");\n",
              "          async function getCodeForChartHandler(event) {\n",
              "            const chartCodeResponse =  await google.colab.kernel.invokeFunction(\n",
              "                'getCodeForChart', [\"chart-618e6986-f3ce-48d0-b69a-fe4a114088c6\"], {});\n",
              "            const responseJson = chartCodeResponse.data['application/json'];\n",
              "            await google.colab.notebook.addCell(responseJson.code, 'code');\n",
              "          }\n",
              "          chartElement.onclick = getCodeForChartHandler;\n",
              "        })();\n",
              "      </script>\n",
              "      <style>\n",
              "        .colab-quickchart-chart-with-code  {\n",
              "            display: block;\n",
              "            float: left;\n",
              "            border: 1px solid transparent;\n",
              "        }\n",
              "\n",
              "        .colab-quickchart-chart-with-code:hover {\n",
              "            cursor: pointer;\n",
              "            border: 1px solid #aaa;\n",
              "        }\n",
              "      </style>"
            ]
          },
          "metadata": {}
        }
      ]
    },
    {
      "cell_type": "code",
      "source": [
        "#Text preprossing\n",
        "corpus=[]\n",
        "for msg in message['messages']:\n",
        "  #removing special chars using regix and make all words to lowercase\n",
        "  review = re.sub('[^a-zA-Z]',' ',msg)\n",
        "  review = review.lower()\n",
        "  #Word Tokenization\n",
        "  words = nltk.word_tokenize(review)\n",
        "  #Remove all the stopwords from the list by taking only meaningful words\n",
        "  lem = WordNetLemmatizer()\n",
        "  words = [lem.lemmatize(word) for word in words if word not in stopwords.words('english')]\n",
        "  sent = ' '.join(words)\n",
        "  corpus.append(sent)\n"
      ],
      "metadata": {
        "id": "_wpEjoJBDBOp"
      },
      "execution_count": 26,
      "outputs": []
    },
    {
      "cell_type": "code",
      "source": [
        "from sklearn.feature_extraction.text import TfidfVectorizer\n",
        "tfidf = TfidfVectorizer()\n",
        "vector = tfidf.fit_transform(corpus).toarray()\n",
        "\n",
        "X = vector\n",
        "y = message['labels']"
      ],
      "metadata": {
        "id": "ULgT2Bk2aY0m"
      },
      "execution_count": 30,
      "outputs": []
    },
    {
      "cell_type": "code",
      "source": [
        "from sklearn.model_selection import train_test_split\n",
        "X_train,X_test,y_train,y_test = train_test_split(X,y,test_size=0.2,random_state=0)"
      ],
      "metadata": {
        "id": "dWeImz0hcayl"
      },
      "execution_count": 36,
      "outputs": []
    },
    {
      "cell_type": "code",
      "source": [
        "from sklearn.feature_extraction.text import CountVectorizer\n",
        "CV = CountVectorizer()\n",
        "vector = CV.fit_transform(corpus).toarray()\n",
        "\n",
        "X = vector\n",
        "y = message['labels']"
      ],
      "metadata": {
        "id": "hbhlIEPMxHnb"
      },
      "execution_count": null,
      "outputs": []
    },
    {
      "cell_type": "code",
      "source": [
        "from sklearn.linear_model import LogisticRegression\n",
        "from sklearn.naive_bayes import MultinomialNB\n",
        "from sklearn.tree import DecisionTreeClassifier\n",
        "from sklearn.ensemble import RandomForestClassifier\n",
        "from sklearn.metrics import classification_report"
      ],
      "metadata": {
        "id": "nVUe7TbLoGRV"
      },
      "execution_count": 33,
      "outputs": []
    },
    {
      "cell_type": "code",
      "source": [
        "lr = LogisticRegression(max_iter=1000)\n",
        "lr.fit(X_train,y_train)\n",
        "y_pred = lr.predict(X_test)\n",
        "print(classification_report(y_test,y_pred))"
      ],
      "metadata": {
        "colab": {
          "base_uri": "https://localhost:8080/"
        },
        "id": "aBNc4wZypLmS",
        "outputId": "6795d775-ef7b-4a61-cb46-0c2ea9124d5a"
      },
      "execution_count": 37,
      "outputs": [
        {
          "output_type": "stream",
          "name": "stdout",
          "text": [
            "              precision    recall  f1-score   support\n",
            "\n",
            "         ham       0.96      1.00      0.98       955\n",
            "        spam       0.98      0.76      0.86       160\n",
            "\n",
            "    accuracy                           0.96      1115\n",
            "   macro avg       0.97      0.88      0.92      1115\n",
            "weighted avg       0.96      0.96      0.96      1115\n",
            "\n"
          ]
        }
      ]
    },
    {
      "cell_type": "code",
      "source": [
        "nb = MultinomialNB()\n",
        "nb.fit(X_train,y_train)\n",
        "print(classification_report(y_test,nb.predict(X_test)))"
      ],
      "metadata": {
        "colab": {
          "base_uri": "https://localhost:8080/"
        },
        "id": "ifPsI_gwqf6L",
        "outputId": "7a99b7d5-6598-4544-f335-3fbf4ef18690"
      },
      "execution_count": 38,
      "outputs": [
        {
          "output_type": "stream",
          "name": "stdout",
          "text": [
            "              precision    recall  f1-score   support\n",
            "\n",
            "         ham       0.97      1.00      0.98       955\n",
            "        spam       1.00      0.81      0.89       160\n",
            "\n",
            "    accuracy                           0.97      1115\n",
            "   macro avg       0.98      0.90      0.94      1115\n",
            "weighted avg       0.97      0.97      0.97      1115\n",
            "\n"
          ]
        }
      ]
    },
    {
      "cell_type": "code",
      "source": [
        "de = DecisionTreeClassifier()\n",
        "de.fit(X_train,y_train)\n",
        "print(classification_report(y_test,de.predict(X_test)))"
      ],
      "metadata": {
        "colab": {
          "base_uri": "https://localhost:8080/"
        },
        "id": "APwNoxChq_pT",
        "outputId": "316fc378-e2ce-4102-fb94-07deb4e61b8a"
      },
      "execution_count": 39,
      "outputs": [
        {
          "output_type": "stream",
          "name": "stdout",
          "text": [
            "              precision    recall  f1-score   support\n",
            "\n",
            "         ham       0.98      0.98      0.98       955\n",
            "        spam       0.87      0.91      0.89       160\n",
            "\n",
            "    accuracy                           0.97      1115\n",
            "   macro avg       0.93      0.94      0.94      1115\n",
            "weighted avg       0.97      0.97      0.97      1115\n",
            "\n"
          ]
        }
      ]
    },
    {
      "cell_type": "code",
      "source": [
        "rf = RandomForestClassifier(n_estimators=1000)\n",
        "rf.fit(X_train,y_train)\n",
        "print(classification_report(y_test,rf.predict(X_test)))"
      ],
      "metadata": {
        "colab": {
          "base_uri": "https://localhost:8080/"
        },
        "id": "R_VHGwJwt_xJ",
        "outputId": "90fcd66f-42ff-43ac-fc3b-5237c3966331"
      },
      "execution_count": 40,
      "outputs": [
        {
          "output_type": "stream",
          "name": "stdout",
          "text": [
            "              precision    recall  f1-score   support\n",
            "\n",
            "         ham       0.98      1.00      0.99       955\n",
            "        spam       1.00      0.87      0.93       160\n",
            "\n",
            "    accuracy                           0.98      1115\n",
            "   macro avg       0.99      0.93      0.96      1115\n",
            "weighted avg       0.98      0.98      0.98      1115\n",
            "\n"
          ]
        }
      ]
    },
    {
      "cell_type": "markdown",
      "source": [
        "We Can see the Best F1 score and Accuracy is 90%+ for ***Random Forest***"
      ],
      "metadata": {
        "id": "FHVT2zo7wwMp"
      }
    },
    {
      "cell_type": "code",
      "source": [],
      "metadata": {
        "id": "r9pSZr0Kw8v8"
      },
      "execution_count": null,
      "outputs": []
    }
  ]
}